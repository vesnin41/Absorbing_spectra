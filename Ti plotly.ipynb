{
 "cells": [
  {
   "cell_type": "code",
   "execution_count": 1,
   "metadata": {},
   "outputs": [],
   "source": [
    "from OptModels import DrudeModel as dm\n",
    "from OptModels import LorentzDrudeModel as ldm\n",
    "from materials import Titanium_prop\n",
    "import numpy as np\n",
    "import pandas as pd\n",
    "import matplotlib.pyplot as plt\n",
    "\n",
    "import plotly.plotly as py\n",
    "import plotly.graph_objs as go"
   ]
  },
  {
   "cell_type": "code",
   "execution_count": 2,
   "metadata": {},
   "outputs": [],
   "source": [
    "ti_blk = dm(wl=np.arange(2e-6, 31e-6, 1e-6),\n",
    "            T=np.arange(300, 1100, 100),\n",
    "            metal_props=Titanium_prop,\n",
    "               )\n",
    "ti_blk_P = dm(wl=np.arange(2e-6, 31e-6, 1e-6),\n",
    "                  T=np.array([300]),\n",
    "                  metal_props=Titanium_prop,\n",
    "                  from_data='Data/Ti_Palik.csv'\n",
    "                 )\n",
    "\n",
    "ti_blk_LD = dm(wl=np.arange(2e-6, 31e-6, 1e-6),\n",
    "                  T=np.array([300]),\n",
    "                  metal_props=Titanium_prop,\n",
    "                  from_data='Data/Ti_Rakic_LD.csv'\n",
    "                 )\n",
    "ti_blk_O = dm(wl=np.arange(2e-6, 31e-6, 1e-6),\n",
    "                  T=np.array([300]),\n",
    "                  metal_props=Titanium_prop,\n",
    "                  from_data='Data/Ti_Ordal.csv'\n",
    "                 )\n",
    "ti_blk_MyLD = ldm(wl=np.arange(2e-6, 31e-6, 1e-6),\n",
    "                              T=np.arange(300, 1100, 100),\n",
    "                              omega_0=2 * np.pi * 1.878778621627e14,\n",
    "                              metal_props=Titanium_prop,)"
   ]
  },
  {
   "cell_type": "code",
   "execution_count": 3,
   "metadata": {},
   "outputs": [
    {
     "data": {
      "text/html": [
       "<iframe id=\"igraph\" scrolling=\"no\" style=\"border:none;\" seamless=\"seamless\" src=\"https://plot.ly/~vesnin.volodya/4.embed\" height=\"525px\" width=\"100%\"></iframe>"
      ],
      "text/plain": [
       "<plotly.tools.PlotlyDisplay object>"
      ]
     },
     "execution_count": 3,
     "metadata": {},
     "output_type": "execute_result"
    }
   ],
   "source": [
    "trace1 = go.Scatter(\n",
    "    x=ti_blk.wl,\n",
    "    y=ti_blk.n_1[:,0],\n",
    "    mode='lines',\n",
    "    name=\"'Drude'\",\n",
    "    line=dict(\n",
    "        shape='spline'\n",
    "    )\n",
    ")\n",
    "\n",
    "trace2 = go.Scatter(\n",
    "    x=ti_blk_LD.wl,\n",
    "    y=ti_blk_LD.n_1[:,0],\n",
    "    mode='lines',\n",
    "    name=\"'LD'\",\n",
    "    line=dict(\n",
    "        shape='spline'\n",
    "    )\n",
    ")\n",
    "\n",
    "trace3 = go.Scatter(\n",
    "    x=ti_blk_O.wl,\n",
    "    y=ti_blk_O.n_1[:,0],\n",
    "    mode='lines',\n",
    "    name=\"'Ordel(Experiment)'\",\n",
    "    line=dict(\n",
    "        shape='spline'\n",
    "    )\n",
    ")\n",
    "\n",
    "trace4 = go.Scatter(\n",
    "    x=ti_blk_MyLD.wl,\n",
    "    y=ti_blk_MyLD.n_1[:,0],\n",
    "    mode='lines',\n",
    "    name=\"'MyLD'\",\n",
    "    line=dict(\n",
    "        shape='spline'\n",
    "    )\n",
    ")\n",
    "\n",
    "data = [trace1, trace2, trace3,trace4]\n",
    "layout = dict(\n",
    "    legend=dict(\n",
    "        y=0.5,\n",
    "        traceorder='reversed',\n",
    "        font=dict(\n",
    "            size=16\n",
    "        )\n",
    "    ),\n",
    "    title='Показатель преломления',\n",
    "    xaxis=dict(title='Длина волны, м'),\n",
    "    yaxis=dict(title='Показатель преломления, n')\n",
    ")\n",
    "fig = dict(data=data, layout=layout)\n",
    "py.iplot(fig, filename='ti_drude_n_1')"
   ]
  },
  {
   "cell_type": "code",
   "execution_count": 4,
   "metadata": {},
   "outputs": [
    {
     "data": {
      "text/html": [
       "<iframe id=\"igraph\" scrolling=\"no\" style=\"border:none;\" seamless=\"seamless\" src=\"https://plot.ly/~vesnin.volodya/8.embed\" height=\"525px\" width=\"100%\"></iframe>"
      ],
      "text/plain": [
       "<plotly.tools.PlotlyDisplay object>"
      ]
     },
     "execution_count": 4,
     "metadata": {},
     "output_type": "execute_result"
    }
   ],
   "source": [
    "trace1 = go.Scatter(\n",
    "    x=ti_blk.wl,\n",
    "    y=ti_blk.k_1[:,0],\n",
    "    mode='lines',\n",
    "    name=\"'Drude'\",\n",
    "    line=dict(\n",
    "        shape='spline'\n",
    "    )\n",
    ")\n",
    "\n",
    "trace2 = go.Scatter(\n",
    "    x=ti_blk_LD.wl,\n",
    "    y=ti_blk_LD.k_1[:,0],\n",
    "    mode='lines',\n",
    "    name=\"'LD'\",\n",
    "    line=dict(\n",
    "        shape='spline'\n",
    "    )\n",
    ")\n",
    "\n",
    "trace3 = go.Scatter(\n",
    "    x=ti_blk_O.wl,\n",
    "    y=ti_blk_O.k_1[:,0],\n",
    "    mode='lines',\n",
    "    name=\"'Ordel'\",\n",
    "    line=dict(\n",
    "        shape='spline'\n",
    "    )\n",
    ")\n",
    "\n",
    "trace4 = go.Scatter(\n",
    "    x=ti_blk_MyLD.wl,\n",
    "    y=ti_blk_MyLD.k_1[:,0],\n",
    "    mode='lines',\n",
    "    name=\"'MyLD'\",\n",
    "    line=dict(\n",
    "        shape='spline'\n",
    "    )\n",
    ")\n",
    "\n",
    "data = [trace1, trace2, trace3,trace4]\n",
    "layout = dict(\n",
    "    legend=dict(\n",
    "        y=0.5,\n",
    "        traceorder='reversed',\n",
    "        font=dict(\n",
    "            size=16\n",
    "        )\n",
    "    ),\n",
    "    title='Коэффициент экстинкции',\n",
    "    xaxis=dict(title='Длина волны, м'),\n",
    "    yaxis=dict(title='Коэффициент экстинкции, k')\n",
    ")\n",
    "fig = dict(data=data, layout=layout)\n",
    "py.iplot(fig, filename='ti_drude_л_1')"
   ]
  },
  {
   "cell_type": "code",
   "execution_count": 5,
   "metadata": {},
   "outputs": [
    {
     "data": {
      "text/html": [
       "<iframe id=\"igraph\" scrolling=\"no\" style=\"border:none;\" seamless=\"seamless\" src=\"https://plot.ly/~vesnin.volodya/10.embed\" height=\"525px\" width=\"100%\"></iframe>"
      ],
      "text/plain": [
       "<plotly.tools.PlotlyDisplay object>"
      ]
     },
     "execution_count": 5,
     "metadata": {},
     "output_type": "execute_result"
    }
   ],
   "source": [
    "data = [dict(\n",
    "        visible = False,\n",
    "        line=dict(color='blue', width=3),\n",
    "        name = '𝜈 = '+str(step),\n",
    "        x = ti_blk.wl,\n",
    "        y = ti_blk.n_1[:,int((step-ti_blk.T[0])/100)]) for step in np.arange(300, 1100, 100)]\n",
    "    \n",
    "data[0]['visible'] = True\n",
    "\n",
    "steps = []\n",
    "for i in range(len(data)):\n",
    "    step = dict(\n",
    "        method = 'restyle',\n",
    "        args = ['visible', [False] * len(data)],\n",
    "    )\n",
    "    step['args'][1][i] = True # Toggle i'th trace to \"visible\"\n",
    "    steps.append(step)\n",
    "\n",
    "sliders = [dict(\n",
    "    active = 0,\n",
    "    currentvalue = {\"xanchor\":  'center',\n",
    "                    \"prefix\": \"Temperature: \"},\n",
    "    pad = {\"t\": 50},\n",
    "    steps = steps,\n",
    "    \n",
    ")]\n",
    "\n",
    "layout = dict(sliders=sliders,\n",
    "              yaxis=dict(autorange=False,\n",
    "                         range=[0, 50],\n",
    "                         title='Показатель преломления, n',\n",
    "                        ),\n",
    "              xaxis=dict(title='Длина волны, м')\n",
    "                \n",
    "            )\n",
    "fig = dict(data=data, layout=layout)\n",
    "\n",
    "py.iplot(fig, filename='ti_n_1(T)')"
   ]
  },
  {
   "cell_type": "code",
   "execution_count": 6,
   "metadata": {},
   "outputs": [
    {
     "data": {
      "text/html": [
       "<iframe id=\"igraph\" scrolling=\"no\" style=\"border:none;\" seamless=\"seamless\" src=\"https://plot.ly/~vesnin.volodya/12.embed\" height=\"525px\" width=\"100%\"></iframe>"
      ],
      "text/plain": [
       "<plotly.tools.PlotlyDisplay object>"
      ]
     },
     "execution_count": 6,
     "metadata": {},
     "output_type": "execute_result"
    }
   ],
   "source": [
    "data = [dict(\n",
    "        visible = False,\n",
    "        line=dict(color='blue', width=3),\n",
    "        name = '𝜈 = '+str(step),\n",
    "        x = ti_blk.wl,\n",
    "        y = ti_blk.k_1[:,int((step-ti_blk.T[0])/100)]) for step in np.arange(300, 1100, 100)]\n",
    "    \n",
    "data[0]['visible'] = True\n",
    "\n",
    "steps = []\n",
    "for i in range(len(data)):\n",
    "    step = dict(\n",
    "        method = 'restyle',\n",
    "        args = ['visible', [False] * len(data)],\n",
    "    )\n",
    "    step['args'][1][i] = True # Toggle i'th trace to \"visible\"\n",
    "    steps.append(step)\n",
    "\n",
    "sliders = [dict(\n",
    "    active = 0,\n",
    "    currentvalue = {\"xanchor\":  'center',\n",
    "                    \"prefix\": \"Temperature: \"},\n",
    "    pad = {\"t\": 50},\n",
    "    steps = steps,\n",
    "    \n",
    ")]\n",
    "\n",
    "layout = dict(sliders=sliders,\n",
    "              yaxis=dict(autorange=False,\n",
    "                         range=[0, 50],\n",
    "                         title='Коэффициент экстинкции, k',\n",
    "                        ),\n",
    "              xaxis=dict(title='Длина волны, м')\n",
    "                \n",
    "            )\n",
    "fig = dict(data=data, layout=layout)\n",
    "\n",
    "py.iplot(fig, filename='ti_k_1(T)')"
   ]
  },
  {
   "cell_type": "code",
   "execution_count": null,
   "metadata": {},
   "outputs": [],
   "source": []
  }
 ],
 "metadata": {
  "kernelspec": {
   "display_name": "Python 3",
   "language": "python",
   "name": "python3"
  },
  "language_info": {
   "codemirror_mode": {
    "name": "ipython",
    "version": 3
   },
   "file_extension": ".py",
   "mimetype": "text/x-python",
   "name": "python",
   "nbconvert_exporter": "python",
   "pygments_lexer": "ipython3",
   "version": "3.6.4"
  }
 },
 "nbformat": 4,
 "nbformat_minor": 2
}
